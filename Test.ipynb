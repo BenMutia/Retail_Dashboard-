{
 "cells": [
  {
   "cell_type": "code",
   "execution_count": 1,
   "id": "7fb2b78b-3090-4d0d-be71-1070d8342b2a",
   "metadata": {
    "tags": []
   },
   "outputs": [],
   "source": [
    "### Personal details"
   ]
  },
  {
   "cell_type": "code",
   "execution_count": 9,
   "id": "7056d0ba-7030-423b-b0eb-42b5d1a08431",
   "metadata": {
    "tags": []
   },
   "outputs": [],
   "source": [
    "ben= {\n",
    "    \"My full name\" :\"Ben Mutia\",\n",
    "    \"Age\" : 18,\n",
    "    \"Country\" : \"Kenya\",\n",
    "    \"Marital status\" : \"Married_Single_Complicated_Taken\"\n",
    "     }"
   ]
  },
  {
   "cell_type": "code",
   "execution_count": 10,
   "id": "c4002294-e031-4d2d-97e2-484876e2bac4",
   "metadata": {
    "tags": []
   },
   "outputs": [
    {
     "data": {
      "text/plain": [
       "18"
      ]
     },
     "execution_count": 10,
     "metadata": {},
     "output_type": "execute_result"
    }
   ],
   "source": [
    "ben[\"Age\"]"
   ]
  }
 ],
 "metadata": {
  "kernelspec": {
   "display_name": "Python 3 (ipykernel)",
   "language": "python",
   "name": "python3"
  },
  "language_info": {
   "codemirror_mode": {
    "name": "ipython",
    "version": 3
   },
   "file_extension": ".py",
   "mimetype": "text/x-python",
   "name": "python",
   "nbconvert_exporter": "python",
   "pygments_lexer": "ipython3",
   "version": "3.11.5"
  }
 },
 "nbformat": 4,
 "nbformat_minor": 5
}
